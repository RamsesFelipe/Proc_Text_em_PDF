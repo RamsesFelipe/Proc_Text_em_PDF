{
 "cells": [
  {
   "cell_type": "markdown",
   "metadata": {},
   "source": [
    "## Script para extrair nome do médico e duração do procedimento de arquivo pdf"
   ]
  },
  {
   "cell_type": "code",
   "execution_count": 1,
   "metadata": {
    "collapsed": true
   },
   "outputs": [],
   "source": [
    "#Caso não possua o PyPDF2 instalado, descomentar linha abaixo\n",
    "#!pip install PyPDF2"
   ]
  },
  {
   "cell_type": "code",
   "execution_count": 2,
   "metadata": {
    "collapsed": true
   },
   "outputs": [],
   "source": [
    "import PyPDF2"
   ]
  },
  {
   "cell_type": "code",
   "execution_count": 3,
   "metadata": {
    "collapsed": true
   },
   "outputs": [],
   "source": [
    "f = open('Pasta1.pdf', 'rb')\n",
    "pdf = PyPDF2.PdfFileReader(f)"
   ]
  },
  {
   "cell_type": "code",
   "execution_count": 4,
   "metadata": {},
   "outputs": [
    {
     "data": {
      "text/plain": [
       "9"
      ]
     },
     "execution_count": 4,
     "metadata": {},
     "output_type": "execute_result"
    }
   ],
   "source": [
    "#Verificando a quantidade de paginas do documento\n",
    "pdf.getNumPages()"
   ]
  },
  {
   "cell_type": "code",
   "execution_count": 5,
   "metadata": {},
   "outputs": [
    {
     "data": {
      "text/plain": [
       "'Pág.: 1 / 10\\nData\\n09/04/2018\\nAcomodação\\nEnfermaria\\nNº\\nCód Usuário\\nPROCEDIMENTO(S) REALIZADO(S)\\nCÓD PROCEDIMENTO\\nQTD\\nVALOR\\nPROCEDIMENTO 01\\n1111111111\\n1\\n0,00\\nPROCEDIMENTO 02\\n1111111112\\n1\\n0,00\\nInício\\nTérmino\\nDuração\\n13:00:00\\n14:50:00\\n01:50:00\\nConvênio\\nXXXXXXXXXXXXXXXXXXXXXX\\nHospital\\nYYYYYYYYYYYYYYYYYYY\\nMédico\\nFULANO 1\\nNome Paciente\\nPACIENTE 1\\n'"
      ]
     },
     "execution_count": 5,
     "metadata": {},
     "output_type": "execute_result"
    }
   ],
   "source": [
    "#Verificando o conteudo de cada pagina\n",
    "pdf.getPage(0).extractText()"
   ]
  },
  {
   "cell_type": "code",
   "execution_count": 6,
   "metadata": {},
   "outputs": [
    {
     "name": "stdout",
     "output_type": "stream",
     "text": [
      "FULANO 2\n",
      "01:00:00\n"
     ]
    }
   ],
   "source": [
    "#Realizando alguns procedimentos com split para podermos retirar o nome do profissional e a duração total dos procedimentos\n",
    "spg0 = pdf.getPage(1).extractText()\n",
    "pg0 = spg0.split('Médico\\n')\n",
    "x = pg0[1:2]\n",
    "y = str(x)\n",
    "a = y.split('\\\\n')\n",
    "w = str(a[0])\n",
    "r = w.split(\"['\")\n",
    "print(r[1])\n",
    "\n",
    "pg1 = spg0.split('Duração\\n')\n",
    "x1 = pg1[1:2]\n",
    "y1 = str(x1)\n",
    "y1\n",
    "a1 = y1.split('\\\\n')\n",
    "print(a1[2])"
   ]
  },
  {
   "cell_type": "code",
   "execution_count": 7,
   "metadata": {
    "collapsed": true
   },
   "outputs": [],
   "source": [
    "qtd_paginas = pdf.getNumPages()"
   ]
  },
  {
   "cell_type": "code",
   "execution_count": 8,
   "metadata": {
    "collapsed": true
   },
   "outputs": [],
   "source": [
    "nome1 = []\n",
    "duracao1 = []\n",
    "tabela = [nome1,duracao1]\n",
    "for i in range(0,qtd_paginas):\n",
    "    spg0 = pdf.getPage(i).extractText()\n",
    "       \n",
    "    pg0 = spg0.split('Médico\\n')\n",
    "    x = pg0[1:2]\n",
    "    y = str(x)\n",
    "    a = y.split('\\\\n')\n",
    "    w = str(a[0])\n",
    "    r = w.split(\"['\")\n",
    "    \n",
    "    pg1 = spg0.split('Duração\\n')\n",
    "    x1 = pg1[1:2]\n",
    "    y1 = str(x1)\n",
    "    y1\n",
    "    a1 = y1.split('\\\\n')\n",
    "    \n",
    "    nome1.append(r[1])\n",
    "    duracao1.append(a1[2])"
   ]
  },
  {
   "cell_type": "code",
   "execution_count": 9,
   "metadata": {},
   "outputs": [
    {
     "name": "stdout",
     "output_type": "stream",
     "text": [
      "[['FULANO 1', 'FULANO 2', 'FULANO 3', 'FULANO 1', 'FULANO 1', 'FULANO 3', 'FULANO 2', 'FULANO 2', 'FULANO 3'], ['01:50:00', '01:00:00', '00:20:00', '00:20:00', '00:50:00', '02:00:00', '01:45:00', '04:30:00', '04:55:00']]\n"
     ]
    }
   ],
   "source": [
    "print(tabela)"
   ]
  },
  {
   "cell_type": "code",
   "execution_count": 10,
   "metadata": {
    "collapsed": true
   },
   "outputs": [],
   "source": [
    "import pandas as pd"
   ]
  },
  {
   "cell_type": "code",
   "execution_count": 11,
   "metadata": {
    "collapsed": true
   },
   "outputs": [],
   "source": [
    "Dados = pd.DataFrame(tabela)"
   ]
  },
  {
   "cell_type": "code",
   "execution_count": 12,
   "metadata": {},
   "outputs": [
    {
     "data": {
      "text/html": [
       "<div>\n",
       "<style>\n",
       "    .dataframe thead tr:only-child th {\n",
       "        text-align: right;\n",
       "    }\n",
       "\n",
       "    .dataframe thead th {\n",
       "        text-align: left;\n",
       "    }\n",
       "\n",
       "    .dataframe tbody tr th {\n",
       "        vertical-align: top;\n",
       "    }\n",
       "</style>\n",
       "<table border=\"1\" class=\"dataframe\">\n",
       "  <thead>\n",
       "    <tr style=\"text-align: right;\">\n",
       "      <th></th>\n",
       "      <th>0</th>\n",
       "      <th>1</th>\n",
       "      <th>2</th>\n",
       "      <th>3</th>\n",
       "      <th>4</th>\n",
       "      <th>5</th>\n",
       "      <th>6</th>\n",
       "      <th>7</th>\n",
       "      <th>8</th>\n",
       "    </tr>\n",
       "  </thead>\n",
       "  <tbody>\n",
       "    <tr>\n",
       "      <th>0</th>\n",
       "      <td>FULANO 1</td>\n",
       "      <td>FULANO 2</td>\n",
       "      <td>FULANO 3</td>\n",
       "      <td>FULANO 1</td>\n",
       "      <td>FULANO 1</td>\n",
       "      <td>FULANO 3</td>\n",
       "      <td>FULANO 2</td>\n",
       "      <td>FULANO 2</td>\n",
       "      <td>FULANO 3</td>\n",
       "    </tr>\n",
       "    <tr>\n",
       "      <th>1</th>\n",
       "      <td>01:50:00</td>\n",
       "      <td>01:00:00</td>\n",
       "      <td>00:20:00</td>\n",
       "      <td>00:20:00</td>\n",
       "      <td>00:50:00</td>\n",
       "      <td>02:00:00</td>\n",
       "      <td>01:45:00</td>\n",
       "      <td>04:30:00</td>\n",
       "      <td>04:55:00</td>\n",
       "    </tr>\n",
       "  </tbody>\n",
       "</table>\n",
       "</div>"
      ],
      "text/plain": [
       "          0         1         2         3         4         5         6  \\\n",
       "0  FULANO 1  FULANO 2  FULANO 3  FULANO 1  FULANO 1  FULANO 3  FULANO 2   \n",
       "1  01:50:00  01:00:00  00:20:00  00:20:00  00:50:00  02:00:00  01:45:00   \n",
       "\n",
       "          7         8  \n",
       "0  FULANO 2  FULANO 3  \n",
       "1  04:30:00  04:55:00  "
      ]
     },
     "execution_count": 12,
     "metadata": {},
     "output_type": "execute_result"
    }
   ],
   "source": [
    "Dados"
   ]
  },
  {
   "cell_type": "code",
   "execution_count": 13,
   "metadata": {
    "collapsed": true
   },
   "outputs": [],
   "source": [
    "import numpy as np"
   ]
  },
  {
   "cell_type": "code",
   "execution_count": 14,
   "metadata": {},
   "outputs": [
    {
     "data": {
      "text/html": [
       "<div>\n",
       "<style>\n",
       "    .dataframe thead tr:only-child th {\n",
       "        text-align: right;\n",
       "    }\n",
       "\n",
       "    .dataframe thead th {\n",
       "        text-align: left;\n",
       "    }\n",
       "\n",
       "    .dataframe tbody tr th {\n",
       "        vertical-align: top;\n",
       "    }\n",
       "</style>\n",
       "<table border=\"1\" class=\"dataframe\">\n",
       "  <thead>\n",
       "    <tr style=\"text-align: right;\">\n",
       "      <th></th>\n",
       "      <th>0</th>\n",
       "      <th>1</th>\n",
       "    </tr>\n",
       "  </thead>\n",
       "  <tbody>\n",
       "    <tr>\n",
       "      <th>0</th>\n",
       "      <td>FULANO 1</td>\n",
       "      <td>01:50:00</td>\n",
       "    </tr>\n",
       "    <tr>\n",
       "      <th>1</th>\n",
       "      <td>FULANO 2</td>\n",
       "      <td>01:00:00</td>\n",
       "    </tr>\n",
       "    <tr>\n",
       "      <th>2</th>\n",
       "      <td>FULANO 3</td>\n",
       "      <td>00:20:00</td>\n",
       "    </tr>\n",
       "    <tr>\n",
       "      <th>3</th>\n",
       "      <td>FULANO 1</td>\n",
       "      <td>00:20:00</td>\n",
       "    </tr>\n",
       "    <tr>\n",
       "      <th>4</th>\n",
       "      <td>FULANO 1</td>\n",
       "      <td>00:50:00</td>\n",
       "    </tr>\n",
       "    <tr>\n",
       "      <th>5</th>\n",
       "      <td>FULANO 3</td>\n",
       "      <td>02:00:00</td>\n",
       "    </tr>\n",
       "    <tr>\n",
       "      <th>6</th>\n",
       "      <td>FULANO 2</td>\n",
       "      <td>01:45:00</td>\n",
       "    </tr>\n",
       "    <tr>\n",
       "      <th>7</th>\n",
       "      <td>FULANO 2</td>\n",
       "      <td>04:30:00</td>\n",
       "    </tr>\n",
       "    <tr>\n",
       "      <th>8</th>\n",
       "      <td>FULANO 3</td>\n",
       "      <td>04:55:00</td>\n",
       "    </tr>\n",
       "  </tbody>\n",
       "</table>\n",
       "</div>"
      ],
      "text/plain": [
       "          0         1\n",
       "0  FULANO 1  01:50:00\n",
       "1  FULANO 2  01:00:00\n",
       "2  FULANO 3  00:20:00\n",
       "3  FULANO 1  00:20:00\n",
       "4  FULANO 1  00:50:00\n",
       "5  FULANO 3  02:00:00\n",
       "6  FULANO 2  01:45:00\n",
       "7  FULANO 2  04:30:00\n",
       "8  FULANO 3  04:55:00"
      ]
     },
     "execution_count": 14,
     "metadata": {},
     "output_type": "execute_result"
    }
   ],
   "source": [
    "Relatorio = np.transpose(Dados)\n",
    "Relatorio"
   ]
  },
  {
   "cell_type": "code",
   "execution_count": 15,
   "metadata": {
    "collapsed": true
   },
   "outputs": [],
   "source": [
    "Relatorio.to_csv('Relatorio', sep='\\t', encoding='utf-8')"
   ]
  }
 ],
 "metadata": {
  "kernelspec": {
   "display_name": "Python 3",
   "language": "python",
   "name": "python3"
  },
  "language_info": {
   "codemirror_mode": {
    "name": "ipython",
    "version": 3
   },
   "file_extension": ".py",
   "mimetype": "text/x-python",
   "name": "python",
   "nbconvert_exporter": "python",
   "pygments_lexer": "ipython3",
   "version": "3.6.1"
  }
 },
 "nbformat": 4,
 "nbformat_minor": 2
}
